{
 "cells": [
  {
   "cell_type": "code",
   "execution_count": 1,
   "metadata": {},
   "outputs": [
    {
     "data": {
      "image/png": "[encoded data removed]",
      "text/plain": [
       "<Figure size 432x288 with 1 Axes>"
      ]
     },
     "metadata": {
      "needs_background": "light"
     },
     "output_type": "display_data"
    }
   ],
   "source": [
    "import pandas as pd\n",
    "import numpy as np\n",
    "import matplotlib.pyplot as plt\n",
    "from sklearn.decomposition import PCA\n",
    "from sklearn import preprocessing\n",
    "from sklearn.cluster import KMeans\n",
    "import seaborn as sns\n",
    "\n",
    "####### PLOTTING HIGH DIMENSIONAL DATASET ########\n",
    "\n",
    "grezzo = pd.read_csv('DatixAnalisi.csv')\n",
    "df_meno1colonne = grezzo.drop(columns=['Unnamed: 0', 'Name'])\n",
    "\n",
    "# centrare e scalare i dati\n",
    "sc_df = preprocessing.scale(df_meno1colonne)\n",
    "X = pd.DataFrame(sc_df)\n",
    "\n",
    "#### DOING KMEANS ON THE FIRST THREE PRINCIPAL COMPONENTS OF PCA ####\n",
    "#Kmeans\n",
    "pca = PCA(n_components=2).fit(sc_df)\n",
    "data2D = pca.transform(X)\n",
    "plt.figure()\n",
    "plt.scatter(data2D[:,0], data2D[:,1])\n",
    "plt.show()\n",
    "plt.close()"
   ]
  },
  {
   "cell_type": "code",
   "execution_count": null,
   "metadata": {},
   "outputs": [],
   "source": [
    "km = KMeans(n_clusters=5)\n",
    "km.fit(X)\n",
    "centers2D = pca.transform(km.cluster_centers_)\n",
    "plt.hold(True)\n",
    "labels=np.array([km.labels_])\n",
    "print(labels)\n",
    "\n",
    "\n",
    "k_rng = range(1,100)\n",
    "sse = [] # errore residuo\n",
    "for k in k_rng:\n",
    "    km = KMeans(n_clusters=k)\n",
    "    km.fit(df)\n",
    "    sse.append(km.inertia_)\n",
    "# ora ho le varianze in sse, devo plottarle per trovare il gomito\n",
    "\n",
    "plt.xlabel('N of clusters')\n",
    "plt.ylabel('Sum squared error')\n",
    "\n",
    "plt.plot(k_rng,sse, color = 'purple')\n",
    "#plt.savefig('Number of clusters.png', bbox_inches='tight')\n",
    "plt.show()\n",
    "plt.close('all')\n",
    "\n",
    "km = KMeans(n_clusters=13)\n",
    "y_predicted = km.fit_predict(df)\n",
    "df['Cluster'] = y_predicted\n",
    "\n",
    "fig = plt.figure()\n",
    "ax = fig.add_subplot(projection='3d')\n",
    "ax.scatter(df.loc[:,0], df.loc[:,1], df.loc[:,2], c =km.labels_.astype(float))\n",
    "fig.show()\n",
    "\n",
    "sns.scatterplot(data = df, x = 0, y = 1, hue='Cluster', style = 'Cluster', palette = 'colorblind')\n",
    "\n",
    "##3d scatter\n",
    "sns.set(style = \"darkgrid\")\n",
    "fig = plt.figure()\n",
    "ax = fig.add_subplot(111, projection = '3d')\n",
    "x = df[0]\n",
    "y = df[1]\n",
    "z = df[2]\n",
    "\n",
    "ax.set_xlabel(\"PC1\")\n",
    "ax.set_ylabel(\"PC2\")\n",
    "ax.set_zlabel(\"PC3\")\n",
    "\n",
    "ax.scatter(x, y, z, c=km.labels_.astype(float))\n",
    "\n",
    "plt.show()\n",
    "\n",
    "###STA FACENDO ESATTAMENTE Quello che voglio fare io###\n",
    "sentence_list=[\"Hi how are you\", \"Good morning\" ...] #i have 10 setences\n",
    "\n",
    "km = KMeans(n_clusters=5, init='k-means++',n_init=10, verbose=1)\n",
    "#with 5 cluster, i want 5 different colors\n",
    "km.fit(vectorized)\n",
    "km.labels_ # [0,1,2,3,3,4,4,5,2,5]\n",
    "\n",
    "pca = PCA(n_components=2).fit(X)\n",
    "data2D = pca.transform(X)\n",
    "plt.scatter(data2D[:,0], data2D[:,1])\n",
    "\n",
    "km.fit(X)\n",
    "centers2D = pca.transform(km.cluster_centers_)\n",
    "plt.hold(True)\n",
    "labels=np.array([km.labels_])\n",
    "print(labels)"
   ]
  }
 ],
 "metadata": {
  "kernelspec": {
   "display_name": "Python 3",
   "language": "python",
   "name": "python3"
  },
  "language_info": {
   "codemirror_mode": {
    "name": "ipython",
    "version": 3
   },
   "file_extension": ".py",
   "mimetype": "text/x-python",
   "name": "python",
   "nbconvert_exporter": "python",
   "pygments_lexer": "ipython3",
   "version": "3.8.5"
  }
 },
 "nbformat": 4,
 "nbformat_minor": 4
}
