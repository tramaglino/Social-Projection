{
 "cells": [
  {
   "cell_type": "code",
   "execution_count": null,
   "outputs": [],
   "source": [
    "import numpy as np\n",
    "import pandas as pd\n",
    "from sklearn.linear_model import Lasso\n",
    "from sklearn.preprocessing import StandardScaler\n",
    "from sklearn.metrics import mean_squared_error,r2_score\n",
    "from sklearn.model_selection import train_test_split\n",
    "from sklearn.model_selection import GridSearchCV\n",
    "from sklearn.cluster import KMeans\n"
   ],
   "metadata": {
    "collapsed": false,
    "pycharm": {
     "name": "#%%\n"
    }
   }
  },
  {
   "cell_type": "code",
   "execution_count": null,
   "outputs": [],
   "source": [
    "def get_TFCE(dataframe_mean, dataframe_clean, column_mean = \"mean\", column_corr=\"ALEM\", column_IOEM=\"IOEM\"):\n",
    "    \"\"\"\n",
    "    Function to calculate TFCE. TFCE = index, error calculated as correlation with distance between ALEM and mean of IOEM for each argument and IOEM of the subject for each argument (30 items)\n",
    "    :param dataframe_mean: The dataframe with only the means of IOEM and ResponseId as index\n",
    "    :param column_corr: name of the column with which you calculate the distance as a string\n",
    "    :param column_IOEM: name of the column with which you calculate final correlation as a string\n",
    "    :return: tfce dataframe with index = responseid and column with correlation values\n",
    "    \"\"\"\n",
    "    # Join main dataframe with mean dataframe\n",
    "    df = pd.merge(dataframe_clean, dataframe_mean, on='Topic', how='outer')\n",
    "    # Add distance\n",
    "    df.insert(4, 'x', abs(df[column_corr] - df[column_mean]))\n",
    "    df = df.drop([column_mean], axis=1)\n",
    "\n",
    "    # Calculate TFCE\n",
    "    tfce = df.groupby('ResponseId')[[column_IOEM, 'x']].corr().iloc[0::2,-1]\n",
    "\n",
    "    tfce2 = pd.DataFrame(tfce)\n",
    "\n",
    "    tfce2.rename(columns = {'x':'TFCE'}, inplace = True)\n",
    "    tfce = tfce2.reset_index([None])\n",
    "\n",
    "    tfce = tfce.drop(['level_1'], axis=1)\n",
    "    return tfce"
   ],
   "metadata": {
    "collapsed": false,
    "pycharm": {
     "name": "#%%\n"
    }
   }
  },
  {
   "cell_type": "code",
   "execution_count": null,
   "outputs": [],
   "source": [
    "def Lasso_regression(X, y):\n",
    "    \"\"\"\n",
    "\n",
    "    :param X: The predictors in a pandas dataframe\n",
    "    :param y: The value to be predicted in a pandas dataframe\n",
    "    :return: R-squared, RMSE, final_coeffs\n",
    "    \"\"\"\n",
    "\n",
    "    #Scaling everything\n",
    "    scaler = StandardScaler()\n",
    "    X_sc = scaler.fit_transform(X)\n",
    "    Y_sc = scaler.fit_transform(y)\n",
    "\n",
    "    X_train, X_test, Y_train, Y_test = train_test_split(X_sc, Y_sc, test_size=0.1)\n",
    "\n",
    "    param = {\n",
    "        'alpha': [0.01,0.02,0.03,0.04,0.05,0.06,0.07,0.08,0.09,0.1],\n",
    "        'fit_intercept':[True,False],\n",
    "        'positive':[True,False],\n",
    "        'selection':['cyclic','random'],\n",
    "        }\n",
    "\n",
    "    #define model\n",
    "    model = Lasso()\n",
    "\n",
    "    # define search\n",
    "    search = GridSearchCV(model, param, scoring='neg_mean_absolute_error', n_jobs=-1)\n",
    "\n",
    "    # execute search\n",
    "    result = search.fit(X_train, Y_train)\n",
    "\n",
    "    # summarize result\n",
    "    print('Best Score: %s' % result.best_score_)\n",
    "    print('Best Hyperparameters: %s' % result.best_params_)\n",
    "\n",
    "    # Best model\n",
    "    lasso_best = Lasso(alpha=result.best_params_['alpha'], fit_intercept=result.best_params_['fit_intercept'], positive=result.best_params_['positive'], selection=result.best_params_['selection']).fit(X_train,Y_train)\n",
    "    y_pred = lasso_best.predict(X_test)\n",
    "    r2 = r2_score(Y_test, y_pred)\n",
    "    print(r2)\n",
    "    root_mean_squared_error = np.sqrt(mean_squared_error(Y_test,y_pred))\n",
    "    print(root_mean_squared_error)\n",
    "    final_coeffs = pd.Series(lasso_best.coef_, index = X.columns)\n",
    "    print(final_coeffs)\n",
    "\n",
    "    return r2, root_mean_squared_error, final_coeffs"
   ],
   "metadata": {
    "collapsed": false,
    "pycharm": {
     "name": "#%%\n"
    }
   }
  },
  {
   "cell_type": "code",
   "execution_count": null,
   "outputs": [],
   "source": [
    "def kMeansRes(scaled_data, k, alpha_k=0.02):\n",
    "    '''\n",
    "    Parameters\n",
    "    ----------\n",
    "    scaled_data: matrix\n",
    "        scaled data. rows are samples and columns are features for clustering\n",
    "    k: int\n",
    "        current k for applying KMeans\n",
    "    alpha_k: float\n",
    "        manually tuned factor that gives penalty to the number of clusters\n",
    "    Returns\n",
    "    -------\n",
    "    scaled_inertia: float\n",
    "        scaled inertia value for current k\n",
    "    '''\n",
    "\n",
    "    inertia_o = np.square((scaled_data - scaled_data.mean(axis=0))).sum()\n",
    "    # fit k-means\n",
    "    kmeans = KMeans(n_clusters=k, random_state=0).fit(scaled_data)\n",
    "    scaled_inertia = kmeans.inertia_ / inertia_o + alpha_k * k\n",
    "    return scaled_inertia"
   ],
   "metadata": {
    "collapsed": false,
    "pycharm": {
     "name": "#%%\n"
    }
   }
  },
  {
   "cell_type": "code",
   "execution_count": null,
   "outputs": [],
   "source": [
    "def chooseBestKforKMeans(scaled_data, k_range):\n",
    "\n",
    "    \"\"\"Find best number k clusters for each set of data\"\"\"\n",
    "    ans = []\n",
    "    for k in k_range:\n",
    "        scaled_inertia = kMeansRes(scaled_data, k)\n",
    "        ans.append((k, scaled_inertia))\n",
    "    results = pd.DataFrame(ans, columns = ['k','Scaled Inertia']).set_index('k')\n",
    "    best_k = results.idxmin()[0]\n",
    "    return best_k, results\n"
   ],
   "metadata": {
    "collapsed": false,
    "pycharm": {
     "name": "#%%\n"
    }
   }
  }
 ],
 "metadata": {
  "kernelspec": {
   "display_name": "Python 3 (ipykernel)",
   "language": "python",
   "name": "python3"
  },
  "language_info": {
   "codemirror_mode": {
    "name": "ipython",
    "version": 3
   },
   "file_extension": ".py",
   "mimetype": "text/x-python",
   "name": "python",
   "nbconvert_exporter": "python",
   "pygments_lexer": "ipython3",
   "version": "3.9.13"
  }
 },
 "nbformat": 4,
 "nbformat_minor": 4
}