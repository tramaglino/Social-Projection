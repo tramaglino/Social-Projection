{
 "cells": [
  {
   "cell_type": "code",
   "execution_count": null,
   "outputs": [],
   "source": [
    "import pandas as pd"
   ],
   "metadata": {
    "collapsed": false,
    "pycharm": {
     "name": "#%%\n"
    }
   }
  },
  {
   "cell_type": "code",
   "execution_count": null,
   "outputs": [],
   "source": [
    "def get_TFCE(dataframe_mean, dataframe_clean, column_mean = \"mean\", column_corr=\"ALEM\", column_IOEM=\"IOEM\"):\n",
    "    \"\"\"\n",
    "    Function to calculate TFCE. TFCE = index, error calculated as correlation with distance between ALEM and mean of IOEM for each argument and IOEM of the subject for each argument (30 items)\n",
    "    :param dataframe_mean: The dataframe with only the means of IOEM and ResponseId as index\n",
    "    :param column_corr: name of the column with which you calculate the distance as a string\n",
    "    :param column_IOEM: name of the column with which you calculate final correlation as a string\n",
    "    :return: tfce dataframe with index = responseid and column with correlation values\n",
    "    \"\"\"\n",
    "    # Join main dataframe with mean dataframe\n",
    "    df = pd.merge(dataframe_clean, dataframe_mean, on='Topic', how='outer')\n",
    "    # Add distance\n",
    "    df.insert(4, 'x', abs(df[column_corr] - df[column_mean]))\n",
    "    df = df.drop([column_mean], axis=1)\n",
    "\n",
    "    # Calculate TFCE\n",
    "    tfce = df.groupby('ResponseId')[[column_IOEM, 'x']].corr().iloc[0::2,-1]\n",
    "\n",
    "    tfce2 = pd.DataFrame(tfce)\n",
    "\n",
    "    tfce2.rename(columns = {'x':'TFCE'}, inplace = True)\n",
    "    tfce = tfce2.reset_index([None])\n",
    "\n",
    "    tfce = tfce.drop(['level_1'], axis=1)\n",
    "    return tfce"
   ],
   "metadata": {
    "collapsed": false,
    "pycharm": {
     "name": "#%%\n"
    }
   }
  }
 ],
 "metadata": {
  "kernelspec": {
   "display_name": "Python 3 (ipykernel)",
   "language": "python",
   "name": "python3"
  },
  "language_info": {
   "codemirror_mode": {
    "name": "ipython",
    "version": 3
   },
   "file_extension": ".py",
   "mimetype": "text/x-python",
   "name": "python",
   "nbconvert_exporter": "python",
   "pygments_lexer": "ipython3",
   "version": "3.9.13"
  }
 },
 "nbformat": 4,
 "nbformat_minor": 4
}