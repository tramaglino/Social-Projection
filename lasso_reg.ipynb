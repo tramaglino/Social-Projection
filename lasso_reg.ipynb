{
 "cells": [
  {
   "cell_type": "code",
   "execution_count": 2,
   "metadata": {
    "collapsed": true,
    "pycharm": {
     "name": "#%%\n"
    }
   },
   "outputs": [],
   "source": [
    "import numpy as np\n",
    "import pandas as pd\n",
    "from sklearn.linear_model import Lasso\n",
    "from sklearn.preprocessing import StandardScaler\n",
    "from sklearn.metrics import mean_squared_error,r2_score\n",
    "from sklearn.model_selection import train_test_split\n",
    "from sklearn.model_selection import GridSearchCV\n",
    "from ipynb.fs.full.main_functions import Lasso_regression"
   ]
  },
  {
   "cell_type": "code",
   "execution_count": 3,
   "outputs": [],
   "source": [
    "data_full = pd.read_csv('Dati_bellissimi.csv')\n",
    "data_y = pd.read_csv('tfce.csv')\n",
    "\n",
    "#define predictor and response variables\n",
    "X = data_full[[\"Corr\", \"dx/sx\", \"Cons/prog\", \"Ind/col\", \"Flame\", \"Agreeableness\", \"Conscientiousness\", \"Em Stability\", \"Extroversion\", \"Openness\", \"Social Use\"]]\n",
    "y = data_y[[\"TFCE\"]]"
   ],
   "metadata": {
    "collapsed": false,
    "pycharm": {
     "name": "#%%\n"
    }
   }
  },
  {
   "cell_type": "code",
   "execution_count": 4,
   "outputs": [
    {
     "name": "stdout",
     "output_type": "stream",
     "text": [
      "Best Score: -0.8168704313777896\n",
      "Best Hyperparameters: {'alpha': 0.07, 'fit_intercept': False, 'positive': True, 'selection': 'cyclic'}\n",
      "-0.030754302976544245\n",
      "0.9758767103195133\n",
      "Corr                 0.000000\n",
      "dx/sx                0.000000\n",
      "Cons/prog            0.000000\n",
      "Ind/col              0.000000\n",
      "Flame                0.000000\n",
      "Agreeableness        0.000000\n",
      "Conscientiousness    0.000000\n",
      "Em Stability         0.000000\n",
      "Extroversion         0.000000\n",
      "Openness             0.000000\n",
      "Social Use           0.051698\n",
      "dtype: float64\n"
     ]
    }
   ],
   "source": [
    "##call function\n",
    "r2, root_mean_squared_error, final_coeffs = Lasso_regression(X, y)"
   ],
   "metadata": {
    "collapsed": false,
    "pycharm": {
     "name": "#%%\n"
    }
   }
  },
  {
   "cell_type": "code",
   "execution_count": null,
   "outputs": [],
   "source": [],
   "metadata": {
    "collapsed": false,
    "pycharm": {
     "name": "#%%\n"
    }
   }
  }
 ],
 "metadata": {
  "kernelspec": {
   "display_name": "Python 3",
   "language": "python",
   "name": "python3"
  },
  "language_info": {
   "codemirror_mode": {
    "name": "ipython",
    "version": 2
   },
   "file_extension": ".py",
   "mimetype": "text/x-python",
   "name": "python",
   "nbconvert_exporter": "python",
   "pygments_lexer": "ipython2",
   "version": "2.7.6"
  }
 },
 "nbformat": 4,
 "nbformat_minor": 0
}