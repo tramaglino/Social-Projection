{
 "cells": [
  {
   "cell_type": "code",
   "execution_count": 2,
   "metadata": {
    "collapsed": true,
    "pycharm": {
     "name": "#%%\n"
    }
   },
   "outputs": [],
   "source": [
    "import numpy as np\n",
    "import pandas as pd\n",
    "from sklearn.linear_model import Lasso\n",
    "from sklearn.preprocessing import StandardScaler\n",
    "from sklearn.metrics import mean_squared_error,r2_score\n",
    "from sklearn.model_selection import train_test_split\n",
    "from sklearn.model_selection import GridSearchCV\n",
    "from ipynb.fs.full.main_functions import Lasso_regression"
   ]
  },
  {
   "cell_type": "code",
   "execution_count": 3,
   "metadata": {
    "collapsed": false,
    "pycharm": {
     "name": "#%%\n"
    }
   },
   "outputs": [],
   "source": [
    "data_full = pd.read_csv('predittori2.csv')\n",
    "data_y = pd.read_csv('tfce.csv')\n",
    "data_y2 = data_full[[\"Yoon\"]]\n",
    "data_y3 = data_full[[\"Barton\"]]\n",
    "data_y4 = data_full[[\"Corr\"]]\n",
    "\n",
    "#define predictor and response variables\n",
    "X = data_full[[\"dx/sx\", \"Cons/prog\", \"Ind/col\", \"Flame\", \"Agreeableness\", \"Conscientiousness\", \"Em Stability\", \"Extroversion\", \"Openness\", \"Social Use\"]]\n",
    "y = data_y[[\"TFCE\"]]\n",
    "\n",
    "\n",
    "X2 = data_full"
   ]
  },
  {
   "cell_type": "code",
   "execution_count": 12,
   "metadata": {
    "collapsed": false,
    "pycharm": {
     "name": "#%%\n"
    }
   },
   "outputs": [
    {
     "name": "stdout",
     "output_type": "stream",
     "text": [
      "Best Score: -0.8307826660260968\n",
      "Best Hyperparameters: {'alpha': 0.1, 'fit_intercept': False, 'positive': True, 'selection': 'cyclic'}\n",
      "-0.07228062230285448\n",
      "0.9121095891522699\n",
      "Corr                 0.000000\n",
      "dx/sx                0.000000\n",
      "Cons/prog            0.000000\n",
      "Ind/col              0.000000\n",
      "Flame                0.000000\n",
      "Agreeableness        0.000000\n",
      "Conscientiousness    0.000000\n",
      "Em Stability         0.000000\n",
      "Extroversion         0.000000\n",
      "Openness             0.000000\n",
      "Social Use           0.039803\n",
      "dtype: float64\n"
     ]
    }
   ],
   "source": [
    "##call function\n",
    "r2, root_mean_squared_error, final_coeffs = Lasso_regression(X, y)\n"
   ]
  },
  {
   "cell_type": "code",
   "execution_count": 9,
   "metadata": {
    "collapsed": false,
    "pycharm": {
     "name": "#%%\n"
    }
   },
   "outputs": [
    {
     "name": "stdout",
     "output_type": "stream",
     "text": [
      "Best Score: -0.6003873220382336\n",
      "Best Hyperparameters: {'alpha': 0.06, 'fit_intercept': False, 'positive': False, 'selection': 'cyclic'}\n",
      "0.40283877683031755\n",
      "0.6469102414722806\n",
      "Corr                -0.580696\n",
      "dx/sx                0.000000\n",
      "Cons/prog           -0.014491\n",
      "Ind/col             -0.044465\n",
      "Flame                0.116568\n",
      "Agreeableness       -0.000000\n",
      "Conscientiousness   -0.000000\n",
      "Em Stability        -0.000000\n",
      "Extroversion         0.000000\n",
      "Openness             0.040783\n",
      "Social Use           0.000000\n",
      "dtype: float64\n"
     ]
    }
   ],
   "source": [
    "r2, root_mean_squared_error, final_coeffs = Lasso_regression(X, data_y2)"
   ]
  },
  {
   "cell_type": "code",
   "execution_count": 10,
   "metadata": {},
   "outputs": [
    {
     "name": "stdout",
     "output_type": "stream",
     "text": [
      "Best Score: -0.6001036448874021\n",
      "Best Hyperparameters: {'alpha': 0.09, 'fit_intercept': False, 'positive': False, 'selection': 'cyclic'}\n",
      "0.43441759980201644\n",
      "0.6708834541968661\n",
      "Corr                -0.563316\n",
      "dx/sx                0.000000\n",
      "Cons/prog           -0.042391\n",
      "Ind/col             -0.000000\n",
      "Flame                0.007204\n",
      "Agreeableness       -0.004459\n",
      "Conscientiousness   -0.000000\n",
      "Em Stability        -0.000000\n",
      "Extroversion        -0.000000\n",
      "Openness             0.000000\n",
      "Social Use           0.000000\n",
      "dtype: float64\n"
     ]
    }
   ],
   "source": [
    "r2, root_mean_squared_error, final_coeffs = Lasso_regression(X, data_y3)"
   ]
  },
  {
   "cell_type": "code",
   "execution_count": 11,
   "metadata": {},
   "outputs": [
    {
     "name": "stdout",
     "output_type": "stream",
     "text": [
      "Best Score: -0.007937136932693298\n",
      "Best Hyperparameters: {'alpha': 0.01, 'fit_intercept': False, 'positive': True, 'selection': 'cyclic'}\n",
      "0.9998988677287224\n",
      "0.010027159948328602\n",
      "Corr                 0.989995\n",
      "dx/sx                0.000000\n",
      "Cons/prog            0.000000\n",
      "Ind/col              0.000000\n",
      "Flame                0.000000\n",
      "Agreeableness        0.000000\n",
      "Conscientiousness    0.000000\n",
      "Em Stability         0.000000\n",
      "Extroversion         0.000000\n",
      "Openness             0.000000\n",
      "Social Use           0.000000\n",
      "dtype: float64\n"
     ]
    }
   ],
   "source": [
    "r2, root_mean_squared_error, final_coeffs = Lasso_regression(X, data_y4)"
   ]
  }
 ],
 "metadata": {
  "kernelspec": {
   "display_name": "Python 3.10.8 ('neuro')",
   "language": "python",
   "name": "python3"
  },
  "language_info": {
   "codemirror_mode": {
    "name": "ipython",
    "version": 3
   },
   "file_extension": ".py",
   "mimetype": "text/x-python",
   "name": "python",
   "nbconvert_exporter": "python",
   "pygments_lexer": "ipython3",
   "version": "3.10.8"
  },
  "vscode": {
   "interpreter": {
    "hash": "7161e958a760a021d2cc6a2854096da64846b3f5754ba6b4985d61d142583539"
   }
  }
 },
 "nbformat": 4,
 "nbformat_minor": 0
}
