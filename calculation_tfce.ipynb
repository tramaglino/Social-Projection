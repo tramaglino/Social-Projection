{
 "cells": [
  {
   "cell_type": "code",
   "execution_count": null,
   "metadata": {
    "collapsed": true,
    "pycharm": {
     "name": "#%%\n"
    }
   },
   "outputs": [],
   "source": [
    "!pip install ipynb\n"
   ]
  },
  {
   "cell_type": "code",
   "execution_count": 5,
   "outputs": [],
   "source": [
    "from ipynb.fs.full.main_functions import get_TFCE\n",
    "import pandas as pd\n",
    "import numpy as np"
   ],
   "metadata": {
    "collapsed": false,
    "pycharm": {
     "name": "#%%\n"
    }
   }
  },
  {
   "cell_type": "code",
   "execution_count": 6,
   "outputs": [],
   "source": [
    "\n",
    "# Import the clean dataset\n",
    "df = pd.read_csv('Dati_puliti.csv')\n",
    "\n",
    "# Calculate 'true' mean by topic\n",
    "m = df.groupby(['Topic']).mean()[['IOEM']]\n",
    "m = m.rename(columns={\"IOEM\": \"mean\"})\n",
    "# Filter dataframe for the only columns of interest\n",
    "df2 = df[['ResponseId', 'Topic', 'ALEM', 'IOEM']]\n"
   ],
   "metadata": {
    "collapsed": false,
    "pycharm": {
     "name": "#%%\n"
    }
   }
  },
  {
   "cell_type": "code",
   "execution_count": 7,
   "outputs": [],
   "source": [
    "##call the functions\n",
    "tfce = get_TFCE(m, df2, 'mean', 'ALEM', 'IOEM')"
   ],
   "metadata": {
    "collapsed": false,
    "pycharm": {
     "name": "#%%\n"
    }
   }
  },
  {
   "cell_type": "code",
   "execution_count": 8,
   "outputs": [
    {
     "name": "stdout",
     "output_type": "stream",
     "text": [
      "                       TFCE\n",
      "ResponseId                 \n",
      "R_0D0ajAEU2dcbJuN -0.098131\n",
      "R_0HA5zwgug5fIcdH -0.021087\n",
      "R_115yBhuX4Gpfl7I -0.163973\n",
      "R_1C7xxhfigfiFeGd  0.001025\n",
      "R_1Cw5IFxX5rp3mCC -0.201414\n",
      "...                     ...\n",
      "R_pofupKms0WblSQV -0.115584\n",
      "R_qF6YsqjzCmyMGNb  0.293799\n",
      "R_rlrvLDsyqZxBbXP  0.200887\n",
      "R_tScCVFecr6dlXGN  0.157550\n",
      "R_xGAVvdhvteIuT3b -0.024426\n",
      "\n",
      "[166 rows x 1 columns]\n"
     ]
    }
   ],
   "source": [
    "print(tfce)\n",
    "tfce.to_csv('./tfce.csv')"
   ],
   "metadata": {
    "collapsed": false,
    "pycharm": {
     "name": "#%%\n"
    }
   }
  },
  {
   "cell_type": "code",
   "execution_count": null,
   "outputs": [],
   "source": [],
   "metadata": {
    "collapsed": false,
    "pycharm": {
     "name": "#%%\n"
    }
   }
  }
 ],
 "metadata": {
  "kernelspec": {
   "display_name": "Python 3",
   "language": "python",
   "name": "python3"
  },
  "language_info": {
   "codemirror_mode": {
    "name": "ipython",
    "version": 2
   },
   "file_extension": ".py",
   "mimetype": "text/x-python",
   "name": "python",
   "nbconvert_exporter": "python",
   "pygments_lexer": "ipython2",
   "version": "2.7.6"
  }
 },
 "nbformat": 4,
 "nbformat_minor": 0
}