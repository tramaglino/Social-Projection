{
 "cells": [
  {
   "cell_type": "code",
   "execution_count": 11,
   "metadata": {},
   "outputs": [
    {
     "name": "stdout",
     "output_type": "stream",
     "text": [
      "                       TFCE\n",
      "ResponseId                 \n",
      "R_0D0ajAEU2dcbJuN  0.127246\n",
      "R_0HA5zwgug5fIcdH -0.013013\n",
      "R_115yBhuX4Gpfl7I -0.063361\n",
      "R_1C7xxhfigfiFeGd -0.422191\n",
      "R_1Cw5IFxX5rp3mCC -0.374664\n",
      "...                     ...\n",
      "R_pofupKms0WblSQV -0.000977\n",
      "R_qF6YsqjzCmyMGNb  0.565824\n",
      "R_rlrvLDsyqZxBbXP  0.358258\n",
      "R_tScCVFecr6dlXGN  0.272367\n",
      "R_xGAVvdhvteIuT3b -0.178715\n",
      "\n",
      "[166 rows x 1 columns]\n"
     ]
    }
   ],
   "source": [
    "import pandas as pd\n",
    "import numpy as np\n",
    "\n",
    "# Import the clean dataset\n",
    "df = pd.read_csv('Dati_puliti.csv')\n",
    "\n",
    "# Calculate 'true' mean by topic\n",
    "m = df.groupby(['Topic']).mean()[['IOEM']]\n",
    "\n",
    "# Filter dataframe for the only columns of interest\n",
    "df2 = df[['ResponseId', 'Topic', 'ALEM']]\n",
    "\n",
    "# Join main dataframe with mean dataframe\n",
    "df = pd.merge(df2, m, on='Topic', how='outer')\n",
    "df.rename(columns = {'IOEM':'mean'}, inplace = True)\n",
    "\n",
    "# Add distance \n",
    "df.insert(4, 'x', abs(df['ALEM'] - df['mean']))\n",
    "df = df.drop(['mean'], axis=1)\n",
    "\n",
    "# Calculate TFCE\n",
    "tfce = df.groupby('ResponseId')[['ALEM', 'x']].corr().iloc[0::2,-1]\n",
    "\n",
    "tfce2 = pd.DataFrame(tfce)\n",
    "\n",
    "tfce2.rename(columns = {'x':'TFCE'}, inplace = True)\n",
    "tfce = tfce2.reset_index([None])\n",
    "\n",
    "tfce = tfce.drop(['level_1'], axis=1)\n",
    "\n",
    "print(tfce)\n",
    "\n",
    "\n",
    "    \n"
   ]
  },
  {
   "cell_type": "code",
   "execution_count": 12,
   "metadata": {},
   "outputs": [
    {
     "name": "stdout",
     "output_type": "stream",
     "text": [
      "[main 1da7c88] Risolto set index\r\n",
      " 1 file changed, 103 insertions(+), 145 deletions(-)\r\n",
      " rewrite tfce-calculation.ipynb (75%)\r\n"
     ]
    }
   ],
   "source": [
    "!git add .\n",
    "!git commit -m \"Risolto set index\""
   ]
  },
  {
   "cell_type": "code",
   "execution_count": null,
   "metadata": {},
   "outputs": [
    {
     "name": "stdout",
     "output_type": "stream",
     "text": [
      "Username for 'https://github.com': "
     ]
    }
   ],
   "source": [
    "!git push \n"
   ]
  },
  {
   "cell_type": "code",
   "execution_count": null,
   "metadata": {},
   "outputs": [],
   "source": []
  }
 ],
 "metadata": {
  "kernelspec": {
   "display_name": "Python 3 (ipykernel)",
   "language": "python",
   "name": "python3"
  },
  "language_info": {
   "codemirror_mode": {
    "name": "ipython",
    "version": 3
   },
   "file_extension": ".py",
   "mimetype": "text/x-python",
   "name": "python",
   "nbconvert_exporter": "python",
   "pygments_lexer": "ipython3",
   "version": "3.9.13"
  }
 },
 "nbformat": 4,
 "nbformat_minor": 4
}
